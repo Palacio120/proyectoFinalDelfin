{
 "cells": [
  {
   "cell_type": "markdown",
   "metadata": {},
   "source": [
    "### Limpieza de la base de datos Vivienda"
   ]
  },
  {
   "cell_type": "markdown",
   "metadata": {},
   "source": [
    "En este documento se procedera a hacer la limpieza de la parte VIVIENDAS de la base de datos ENDUTIH.\n",
    "\n",
    "Empesaremos importando las bases de datos necesarias para hacer una exploracion inicial"
   ]
  },
  {
   "cell_type": "code",
   "execution_count": 1,
   "metadata": {},
   "outputs": [],
   "source": [
    "import pandas as pd\n",
    "import numpy as np"
   ]
  },
  {
   "cell_type": "markdown",
   "metadata": {},
   "source": [
    "### Carga\n",
    "carga de la base de datos"
   ]
  },
  {
   "cell_type": "code",
   "execution_count": 2,
   "metadata": {},
   "outputs": [
    {
     "data": {
      "text/html": [
       "<div>\n",
       "<style scoped>\n",
       "    .dataframe tbody tr th:only-of-type {\n",
       "        vertical-align: middle;\n",
       "    }\n",
       "\n",
       "    .dataframe tbody tr th {\n",
       "        vertical-align: top;\n",
       "    }\n",
       "\n",
       "    .dataframe thead th {\n",
       "        text-align: right;\n",
       "    }\n",
       "</style>\n",
       "<table border=\"1\" class=\"dataframe\">\n",
       "  <thead>\n",
       "    <tr style=\"text-align: right;\">\n",
       "      <th></th>\n",
       "      <th>VIV_SEL</th>\n",
       "      <th>P1_1</th>\n",
       "      <th>P1_2</th>\n",
       "      <th>P1_3</th>\n",
       "      <th>P1_4</th>\n",
       "      <th>P1_5_1</th>\n",
       "      <th>P1_5_2</th>\n",
       "      <th>P2_1</th>\n",
       "      <th>P2_2</th>\n",
       "      <th>P2_3</th>\n",
       "      <th>RESUL_V</th>\n",
       "      <th>CD_ENDUTIH</th>\n",
       "      <th>FACTOR</th>\n",
       "      <th>UPM_DIS</th>\n",
       "      <th>EST_DIS</th>\n",
       "      <th>DOMINIO</th>\n",
       "      <th>ENT</th>\n",
       "    </tr>\n",
       "    <tr>\n",
       "      <th>UPM</th>\n",
       "      <th></th>\n",
       "      <th></th>\n",
       "      <th></th>\n",
       "      <th></th>\n",
       "      <th></th>\n",
       "      <th></th>\n",
       "      <th></th>\n",
       "      <th></th>\n",
       "      <th></th>\n",
       "      <th></th>\n",
       "      <th></th>\n",
       "      <th></th>\n",
       "      <th></th>\n",
       "      <th></th>\n",
       "      <th></th>\n",
       "      <th></th>\n",
       "      <th></th>\n",
       "    </tr>\n",
       "  </thead>\n",
       "  <tbody>\n",
       "    <tr>\n",
       "      <th>100008</th>\n",
       "      <td>1</td>\n",
       "      <td>3</td>\n",
       "      <td>1</td>\n",
       "      <td>1</td>\n",
       "      <td>1</td>\n",
       "      <td>1.0</td>\n",
       "      <td>1.0</td>\n",
       "      <td>4</td>\n",
       "      <td>1</td>\n",
       "      <td>1</td>\n",
       "      <td>1</td>\n",
       "      <td>14.0</td>\n",
       "      <td>144</td>\n",
       "      <td>1</td>\n",
       "      <td>3</td>\n",
       "      <td>U</td>\n",
       "      <td>1</td>\n",
       "    </tr>\n",
       "    <tr>\n",
       "      <th>100008</th>\n",
       "      <td>2</td>\n",
       "      <td>3</td>\n",
       "      <td>1</td>\n",
       "      <td>1</td>\n",
       "      <td>1</td>\n",
       "      <td>1.0</td>\n",
       "      <td>1.0</td>\n",
       "      <td>4</td>\n",
       "      <td>1</td>\n",
       "      <td>1</td>\n",
       "      <td>1</td>\n",
       "      <td>14.0</td>\n",
       "      <td>144</td>\n",
       "      <td>1</td>\n",
       "      <td>3</td>\n",
       "      <td>U</td>\n",
       "      <td>1</td>\n",
       "    </tr>\n",
       "    <tr>\n",
       "      <th>100008</th>\n",
       "      <td>3</td>\n",
       "      <td>3</td>\n",
       "      <td>1</td>\n",
       "      <td>1</td>\n",
       "      <td>1</td>\n",
       "      <td>1.0</td>\n",
       "      <td>1.0</td>\n",
       "      <td>2</td>\n",
       "      <td>1</td>\n",
       "      <td>1</td>\n",
       "      <td>1</td>\n",
       "      <td>14.0</td>\n",
       "      <td>144</td>\n",
       "      <td>1</td>\n",
       "      <td>3</td>\n",
       "      <td>U</td>\n",
       "      <td>1</td>\n",
       "    </tr>\n",
       "    <tr>\n",
       "      <th>100008</th>\n",
       "      <td>4</td>\n",
       "      <td>3</td>\n",
       "      <td>1</td>\n",
       "      <td>1</td>\n",
       "      <td>1</td>\n",
       "      <td>1.0</td>\n",
       "      <td>2.0</td>\n",
       "      <td>4</td>\n",
       "      <td>2</td>\n",
       "      <td>4</td>\n",
       "      <td>1</td>\n",
       "      <td>14.0</td>\n",
       "      <td>144</td>\n",
       "      <td>1</td>\n",
       "      <td>3</td>\n",
       "      <td>U</td>\n",
       "      <td>1</td>\n",
       "    </tr>\n",
       "    <tr>\n",
       "      <th>100010</th>\n",
       "      <td>1</td>\n",
       "      <td>3</td>\n",
       "      <td>1</td>\n",
       "      <td>1</td>\n",
       "      <td>1</td>\n",
       "      <td>1.0</td>\n",
       "      <td>1.0</td>\n",
       "      <td>3</td>\n",
       "      <td>1</td>\n",
       "      <td>1</td>\n",
       "      <td>1</td>\n",
       "      <td>14.0</td>\n",
       "      <td>134</td>\n",
       "      <td>2</td>\n",
       "      <td>3</td>\n",
       "      <td>U</td>\n",
       "      <td>1</td>\n",
       "    </tr>\n",
       "  </tbody>\n",
       "</table>\n",
       "</div>"
      ],
      "text/plain": [
       "        VIV_SEL  P1_1  P1_2  P1_3  P1_4  P1_5_1  P1_5_2  P2_1  P2_2  P2_3  \\\n",
       "UPM                                                                         \n",
       "100008        1     3     1     1     1     1.0     1.0     4     1     1   \n",
       "100008        2     3     1     1     1     1.0     1.0     4     1     1   \n",
       "100008        3     3     1     1     1     1.0     1.0     2     1     1   \n",
       "100008        4     3     1     1     1     1.0     2.0     4     2     4   \n",
       "100010        1     3     1     1     1     1.0     1.0     3     1     1   \n",
       "\n",
       "        RESUL_V  CD_ENDUTIH  FACTOR  UPM_DIS  EST_DIS DOMINIO  ENT  \n",
       "UPM                                                                 \n",
       "100008        1        14.0     144        1        3       U    1  \n",
       "100008        1        14.0     144        1        3       U    1  \n",
       "100008        1        14.0     144        1        3       U    1  \n",
       "100008        1        14.0     144        1        3       U    1  \n",
       "100010        1        14.0     134        2        3       U    1  "
      ]
     },
     "execution_count": 2,
     "metadata": {},
     "output_type": "execute_result"
    }
   ],
   "source": [
    "vivienda_Loc='C:/Users/alejandro/Desktop/ProyectoFinal Delfin/Bases de datos/conjunto_de_datos/tr_vivienda.csv'\n",
    "df_Vivienda=pd.read_csv(vivienda_Loc, low_memory=False, index_col=0)\n",
    "df_Vivienda.head()"
   ]
  },
  {
   "cell_type": "code",
   "execution_count": 3,
   "metadata": {},
   "outputs": [],
   "source": [
    "df_vivienda_copy = df_Vivienda.copy()#creamos una copia para explorar los datos"
   ]
  },
  {
   "cell_type": "code",
   "execution_count": 4,
   "metadata": {},
   "outputs": [
    {
     "name": "stdout",
     "output_type": "stream",
     "text": [
      "(132305, 17)\n"
     ]
    }
   ],
   "source": [
    "print(df_vivienda_copy.shape)"
   ]
  },
  {
   "cell_type": "markdown",
   "metadata": {},
   "source": [
    "### Eliminacion de columnas unicas de INEGI\n",
    "Se eliminaran las tablas que el INEGI utiliza para relacionar sus tablas o que tienen vaalores los cuales no nos sirvan debido a que no sepamos el significado de estos"
   ]
  },
  {
   "cell_type": "code",
   "execution_count": 5,
   "metadata": {},
   "outputs": [
    {
     "data": {
      "text/html": [
       "<div>\n",
       "<style scoped>\n",
       "    .dataframe tbody tr th:only-of-type {\n",
       "        vertical-align: middle;\n",
       "    }\n",
       "\n",
       "    .dataframe tbody tr th {\n",
       "        vertical-align: top;\n",
       "    }\n",
       "\n",
       "    .dataframe thead th {\n",
       "        text-align: right;\n",
       "    }\n",
       "</style>\n",
       "<table border=\"1\" class=\"dataframe\">\n",
       "  <thead>\n",
       "    <tr style=\"text-align: right;\">\n",
       "      <th></th>\n",
       "      <th>VIV_SEL</th>\n",
       "      <th>P1_1</th>\n",
       "      <th>P1_2</th>\n",
       "      <th>P1_3</th>\n",
       "      <th>P1_4</th>\n",
       "      <th>P1_5_1</th>\n",
       "      <th>P1_5_2</th>\n",
       "      <th>P2_1</th>\n",
       "      <th>P2_2</th>\n",
       "      <th>P2_3</th>\n",
       "      <th>RESUL_V</th>\n",
       "      <th>CD_ENDUTIH</th>\n",
       "      <th>DOMINIO</th>\n",
       "      <th>ENT</th>\n",
       "    </tr>\n",
       "    <tr>\n",
       "      <th>UPM</th>\n",
       "      <th></th>\n",
       "      <th></th>\n",
       "      <th></th>\n",
       "      <th></th>\n",
       "      <th></th>\n",
       "      <th></th>\n",
       "      <th></th>\n",
       "      <th></th>\n",
       "      <th></th>\n",
       "      <th></th>\n",
       "      <th></th>\n",
       "      <th></th>\n",
       "      <th></th>\n",
       "      <th></th>\n",
       "    </tr>\n",
       "  </thead>\n",
       "  <tbody>\n",
       "    <tr>\n",
       "      <th>100008</th>\n",
       "      <td>1</td>\n",
       "      <td>3</td>\n",
       "      <td>1</td>\n",
       "      <td>1</td>\n",
       "      <td>1</td>\n",
       "      <td>1.0</td>\n",
       "      <td>1.0</td>\n",
       "      <td>4</td>\n",
       "      <td>1</td>\n",
       "      <td>1</td>\n",
       "      <td>1</td>\n",
       "      <td>14.0</td>\n",
       "      <td>U</td>\n",
       "      <td>1</td>\n",
       "    </tr>\n",
       "    <tr>\n",
       "      <th>100008</th>\n",
       "      <td>2</td>\n",
       "      <td>3</td>\n",
       "      <td>1</td>\n",
       "      <td>1</td>\n",
       "      <td>1</td>\n",
       "      <td>1.0</td>\n",
       "      <td>1.0</td>\n",
       "      <td>4</td>\n",
       "      <td>1</td>\n",
       "      <td>1</td>\n",
       "      <td>1</td>\n",
       "      <td>14.0</td>\n",
       "      <td>U</td>\n",
       "      <td>1</td>\n",
       "    </tr>\n",
       "    <tr>\n",
       "      <th>100008</th>\n",
       "      <td>3</td>\n",
       "      <td>3</td>\n",
       "      <td>1</td>\n",
       "      <td>1</td>\n",
       "      <td>1</td>\n",
       "      <td>1.0</td>\n",
       "      <td>1.0</td>\n",
       "      <td>2</td>\n",
       "      <td>1</td>\n",
       "      <td>1</td>\n",
       "      <td>1</td>\n",
       "      <td>14.0</td>\n",
       "      <td>U</td>\n",
       "      <td>1</td>\n",
       "    </tr>\n",
       "    <tr>\n",
       "      <th>100008</th>\n",
       "      <td>4</td>\n",
       "      <td>3</td>\n",
       "      <td>1</td>\n",
       "      <td>1</td>\n",
       "      <td>1</td>\n",
       "      <td>1.0</td>\n",
       "      <td>2.0</td>\n",
       "      <td>4</td>\n",
       "      <td>2</td>\n",
       "      <td>4</td>\n",
       "      <td>1</td>\n",
       "      <td>14.0</td>\n",
       "      <td>U</td>\n",
       "      <td>1</td>\n",
       "    </tr>\n",
       "    <tr>\n",
       "      <th>100010</th>\n",
       "      <td>1</td>\n",
       "      <td>3</td>\n",
       "      <td>1</td>\n",
       "      <td>1</td>\n",
       "      <td>1</td>\n",
       "      <td>1.0</td>\n",
       "      <td>1.0</td>\n",
       "      <td>3</td>\n",
       "      <td>1</td>\n",
       "      <td>1</td>\n",
       "      <td>1</td>\n",
       "      <td>14.0</td>\n",
       "      <td>U</td>\n",
       "      <td>1</td>\n",
       "    </tr>\n",
       "  </tbody>\n",
       "</table>\n",
       "</div>"
      ],
      "text/plain": [
       "        VIV_SEL  P1_1  P1_2  P1_3  P1_4  P1_5_1  P1_5_2  P2_1  P2_2  P2_3  \\\n",
       "UPM                                                                         \n",
       "100008        1     3     1     1     1     1.0     1.0     4     1     1   \n",
       "100008        2     3     1     1     1     1.0     1.0     4     1     1   \n",
       "100008        3     3     1     1     1     1.0     1.0     2     1     1   \n",
       "100008        4     3     1     1     1     1.0     2.0     4     2     4   \n",
       "100010        1     3     1     1     1     1.0     1.0     3     1     1   \n",
       "\n",
       "        RESUL_V  CD_ENDUTIH DOMINIO  ENT  \n",
       "UPM                                       \n",
       "100008        1        14.0       U    1  \n",
       "100008        1        14.0       U    1  \n",
       "100008        1        14.0       U    1  \n",
       "100008        1        14.0       U    1  \n",
       "100010        1        14.0       U    1  "
      ]
     },
     "execution_count": 5,
     "metadata": {},
     "output_type": "execute_result"
    }
   ],
   "source": [
    "df_vivienda_copy.drop('EST_DIS',axis=1,inplace=True)#[1-587] Estrato de diseño muestral \n",
    "df_vivienda_copy.drop('FACTOR',axis=1,inplace=True)#[10-4150] Factor\n",
    "df_vivienda_copy.drop('UPM_DIS',axis=1,inplace=True)#[1-10006] Unidad primaria de muestreo\n",
    "df_vivienda_copy.head()"
   ]
  },
  {
   "cell_type": "code",
   "execution_count": 6,
   "metadata": {},
   "outputs": [],
   "source": [
    "for col in df_vivienda_copy.columns:\n",
    "    try:\n",
    "        df_vivienda_copy[col].fillna(value='99', inplace=True)\n",
    "    except:\n",
    "        pass"
   ]
  },
  {
   "cell_type": "markdown",
   "metadata": {},
   "source": [
    "### Exploracion de la columna VIV_SEL\n",
    "\n",
    "En esta columna deben de existir solo los siguientes datos:\n",
    "\n",
    "    Vivienda seleccionada \n",
    "    longitud 2\n",
    "    rango[]"
   ]
  },
  {
   "cell_type": "code",
   "execution_count": 7,
   "metadata": {},
   "outputs": [
    {
     "data": {
      "text/plain": [
       "2     17341\n",
       "3     17324\n",
       "1     17260\n",
       "4     17249\n",
       "5     17169\n",
       "8      5106\n",
       "9      5101\n",
       "6      5073\n",
       "7      5070\n",
       "10     5062\n",
       "11     2060\n",
       "17     2034\n",
       "16     2031\n",
       "12     2029\n",
       "15     2028\n",
       "13     2018\n",
       "14     2012\n",
       "18     2008\n",
       "19     1995\n",
       "20     1852\n",
       "21      218\n",
       "22       66\n",
       "23       12\n",
       "38       12\n",
       "37       12\n",
       "26       12\n",
       "28       12\n",
       "31       12\n",
       "30       11\n",
       "32       11\n",
       "35       11\n",
       "34       11\n",
       "40       11\n",
       "29       11\n",
       "27       11\n",
       "24       11\n",
       "33       10\n",
       "36       10\n",
       "25       10\n",
       "39        9\n",
       "Name: VIV_SEL, dtype: int64"
      ]
     },
     "execution_count": 7,
     "metadata": {},
     "output_type": "execute_result"
    }
   ],
   "source": [
    "df_vivienda_copy.VIV_SEL= df_vivienda_copy.VIV_SEL.astype('category')\n",
    "df_vivienda_copy.VIV_SEL.value_counts()"
   ]
  },
  {
   "cell_type": "markdown",
   "metadata": {},
   "source": [
    "### Exploracion de la columna P1_1\n",
    "\n",
    "¿De qué material es la mayor parte del piso de esta vivienda?\n",
    "\n",
    "    1 Tierra\n",
    "    2 Cemento o firme\n",
    "    3 Madera mosaico u otro recubrimiento\n",
    "    "
   ]
  },
  {
   "cell_type": "code",
   "execution_count": 8,
   "metadata": {},
   "outputs": [
    {
     "data": {
      "text/plain": [
       "2    65283\n",
       "3    63408\n",
       "1     3614\n",
       "Name: P1_1, dtype: int64"
      ]
     },
     "execution_count": 8,
     "metadata": {},
     "output_type": "execute_result"
    }
   ],
   "source": [
    "df_vivienda_copy.P1_1= df_vivienda_copy.P1_1.astype('category')\n",
    "df_vivienda_copy.P1_1.value_counts()"
   ]
  },
  {
   "cell_type": "markdown",
   "metadata": {},
   "source": [
    "### Exploracion de la columna P1_2\n",
    "\n",
    "¿En esta vivienda tienen…\n",
    "\n",
    "    1 agua entubada dentro de la vivienda?\n",
    "    2 agua entubada fuera de la vivienda, pero dentro del terreno?\n",
    "    3 agua entubada de llave pública (o hidrante)?\n",
    "    4 agua entubada que acarrean de otra vivienda? \n",
    "    5 agua de pipa?\n",
    "    6 agua de un pozo, río, arroyo, lago u otro?"
   ]
  },
  {
   "cell_type": "code",
   "execution_count": 9,
   "metadata": {},
   "outputs": [
    {
     "data": {
      "text/plain": [
       "1    104878\n",
       "2     20708\n",
       "6      3464\n",
       "5      1885\n",
       "4       922\n",
       "3       448\n",
       "Name: P1_2, dtype: int64"
      ]
     },
     "execution_count": 9,
     "metadata": {},
     "output_type": "execute_result"
    }
   ],
   "source": [
    "df_vivienda_copy.P1_2= df_vivienda_copy.P1_2.astype('category')\n",
    "df_vivienda_copy.P1_2.value_counts()"
   ]
  },
  {
   "cell_type": "markdown",
   "metadata": {},
   "source": [
    "### Exploracion de la columna P1_3\n",
    "\n",
    "¿En esta vivienda tienen drenaje o desagüe conectado a…\n",
    "\n",
    "    1 la red pública?\n",
    "    2 una fosa séptica?\n",
    "    3 una tubería que va a dar a una barranca o grieta?\n",
    "    4 una tubería que va a dar a un río, lago o mar?\n",
    "    5 ¿No tiene drenaje?"
   ]
  },
  {
   "cell_type": "code",
   "execution_count": 10,
   "metadata": {},
   "outputs": [
    {
     "data": {
      "text/plain": [
       "1    102574\n",
       "2     24817\n",
       "5      3715\n",
       "3       866\n",
       "4       333\n",
       "Name: P1_3, dtype: int64"
      ]
     },
     "execution_count": 10,
     "metadata": {},
     "output_type": "execute_result"
    }
   ],
   "source": [
    "df_vivienda_copy.P1_3= df_vivienda_copy.P1_3.astype('category')\n",
    "df_vivienda_copy.P1_3.value_counts()"
   ]
  },
  {
   "cell_type": "markdown",
   "metadata": {},
   "source": [
    "### Exploracion de la columna P1_4\n",
    "¿Disponen de energía eléctrica?\n",
    "\n",
    "    1 Sí\n",
    "    2 No"
   ]
  },
  {
   "cell_type": "code",
   "execution_count": 11,
   "metadata": {},
   "outputs": [
    {
     "data": {
      "text/plain": [
       "1    131563\n",
       "2       742\n",
       "Name: P1_4, dtype: int64"
      ]
     },
     "execution_count": 11,
     "metadata": {},
     "output_type": "execute_result"
    }
   ],
   "source": [
    "df_vivienda_copy.P1_4= df_vivienda_copy.P1_4.astype('category')\n",
    "df_vivienda_copy.P1_4.value_counts()"
   ]
  },
  {
   "cell_type": "markdown",
   "metadata": {},
   "source": [
    "### Exploracion de la columna P1_5_1\n",
    " ¿En esta vivienda disponen de refrigerador?\n",
    "\n",
    "    1 Sí\n",
    "    2 No\n",
    "    b blanco"
   ]
  },
  {
   "cell_type": "code",
   "execution_count": 12,
   "metadata": {},
   "outputs": [
    {
     "data": {
      "text/plain": [
       "1.0    119029\n",
       "2.0     12534\n",
       "99        742\n",
       "Name: P1_5_1, dtype: int64"
      ]
     },
     "execution_count": 12,
     "metadata": {},
     "output_type": "execute_result"
    }
   ],
   "source": [
    "df_vivienda_copy.P1_5_1=df_vivienda_copy.P1_5_1.astype('category')\n",
    "df_vivienda_copy.P1_5_1.value_counts()"
   ]
  },
  {
   "cell_type": "code",
   "execution_count": 13,
   "metadata": {},
   "outputs": [
    {
     "data": {
      "text/plain": [
       "{1.0: '1', 2.0: '2'}"
      ]
     },
     "execution_count": 13,
     "metadata": {},
     "output_type": "execute_result"
    }
   ],
   "source": [
    "dicc_p1_5_1={1.0:'1',2.0:'2'}#DICCIONARIO PARA CAMBIAR LOS VALORES\n",
    "dicc_p1_5_1"
   ]
  },
  {
   "cell_type": "code",
   "execution_count": 14,
   "metadata": {},
   "outputs": [
    {
     "data": {
      "text/plain": [
       "1     119029\n",
       "2      12534\n",
       "99       742\n",
       "Name: P1_5_1, dtype: int64"
      ]
     },
     "execution_count": 14,
     "metadata": {},
     "output_type": "execute_result"
    }
   ],
   "source": [
    "df_vivienda_copy.P1_5_1.replace(dicc_p1_5_1, inplace=True)\n",
    "df_vivienda_copy.P1_5_1.value_counts()"
   ]
  },
  {
   "cell_type": "markdown",
   "metadata": {},
   "source": [
    "### Exploracion de la columna P1_5_2\n",
    " ¿En esta vivienda disponen de lavadora?\n",
    "\n",
    "    1 Sí\n",
    "    2 No\n",
    "    b blanco"
   ]
  },
  {
   "cell_type": "code",
   "execution_count": 15,
   "metadata": {},
   "outputs": [
    {
     "data": {
      "text/plain": [
       "1.0    98604\n",
       "2.0    32959\n",
       "99       742\n",
       "Name: P1_5_2, dtype: int64"
      ]
     },
     "execution_count": 15,
     "metadata": {},
     "output_type": "execute_result"
    }
   ],
   "source": [
    "df_vivienda_copy.P1_5_2= df_vivienda_copy.P1_5_2.astype('category')\n",
    "df_vivienda_copy.P1_5_2.value_counts()"
   ]
  },
  {
   "cell_type": "code",
   "execution_count": 16,
   "metadata": {},
   "outputs": [
    {
     "data": {
      "text/plain": [
       "1     98604\n",
       "2     32959\n",
       "99      742\n",
       "Name: P1_5_2, dtype: int64"
      ]
     },
     "execution_count": 16,
     "metadata": {},
     "output_type": "execute_result"
    }
   ],
   "source": [
    "df_vivienda_copy.P1_5_2.replace(dicc_p1_5_1, inplace=True)\n",
    "df_vivienda_copy.P1_5_2.value_counts()"
   ]
  },
  {
   "cell_type": "markdown",
   "metadata": {},
   "source": [
    "### Exploraion de la columna P2_1\n",
    "¿Cuántas personas viven normalmente en esta vivienda contando a los niños chiquitos y a los ancianos? (incluya también a los trabajadores domésticos que viven aquí)\n",
    "\n",
    "    01-30 Total de personas en la vivienda "
   ]
  },
  {
   "cell_type": "code",
   "execution_count": 17,
   "metadata": {},
   "outputs": [
    {
     "data": {
      "text/plain": [
       "4     30092\n",
       "3     26015\n",
       "2     23784\n",
       "5     19684\n",
       "1     15290\n",
       "6      9046\n",
       "7      4211\n",
       "8      2055\n",
       "9       936\n",
       "10      628\n",
       "11      237\n",
       "12      151\n",
       "13       76\n",
       "14       33\n",
       "15       23\n",
       "16       21\n",
       "17        8\n",
       "18        8\n",
       "19        2\n",
       "21        2\n",
       "24        1\n",
       "20        1\n",
       "30        1\n",
       "Name: P2_1, dtype: int64"
      ]
     },
     "execution_count": 17,
     "metadata": {},
     "output_type": "execute_result"
    }
   ],
   "source": [
    "df_vivienda_copy.P2_1= df_vivienda_copy.P2_1.astype('category')\n",
    "df_vivienda_copy.P2_1.value_counts()"
   ]
  },
  {
   "cell_type": "markdown",
   "metadata": {},
   "source": [
    "### Exploraion de la columna P2_2\n",
    "¿Todas las personas que viven en esta vivienda comparten un mismo gasto para comer?\n",
    "\n",
    "    1 Sí\n",
    "    2 No"
   ]
  },
  {
   "cell_type": "code",
   "execution_count": 18,
   "metadata": {},
   "outputs": [
    {
     "data": {
      "text/plain": [
       "1    129609\n",
       "2      2696\n",
       "Name: P2_2, dtype: int64"
      ]
     },
     "execution_count": 18,
     "metadata": {},
     "output_type": "execute_result"
    }
   ],
   "source": [
    "df_vivienda_copy.P2_2= df_vivienda_copy.P2_2.astype('category')\n",
    "df_vivienda_copy.P2_2.value_counts()"
   ]
  },
  {
   "cell_type": "markdown",
   "metadata": {},
   "source": [
    "### Exploracion de la columna P2_3\n",
    "¿cuántos hogares o grupos de personas tienen gasto separado para comer contando el de usted?\n",
    "\n",
    "    01-06 Número de hogares en la vivienda"
   ]
  },
  {
   "cell_type": "code",
   "execution_count": 19,
   "metadata": {},
   "outputs": [
    {
     "data": {
      "text/plain": [
       "1    129743\n",
       "2      2185\n",
       "3       298\n",
       "4        61\n",
       "5        18\n",
       "Name: P2_3, dtype: int64"
      ]
     },
     "execution_count": 19,
     "metadata": {},
     "output_type": "execute_result"
    }
   ],
   "source": [
    " df_vivienda_copy.P2_3= df_vivienda_copy.P2_3.astype('category')\n",
    "df_vivienda_copy.P2_3.value_counts()"
   ]
  },
  {
   "cell_type": "markdown",
   "metadata": {},
   "source": [
    "### Exploracion de la columna RESUL_V\n",
    "Resultado de la vivienda\n",
    "    \n",
    "    01-02 Resultado de la vivienda"
   ]
  },
  {
   "cell_type": "code",
   "execution_count": 20,
   "metadata": {},
   "outputs": [
    {
     "data": {
      "text/plain": [
       "1    132141\n",
       "4       100\n",
       "2        59\n",
       "3         5\n",
       "Name: RESUL_V, dtype: int64"
      ]
     },
     "execution_count": 20,
     "metadata": {},
     "output_type": "execute_result"
    }
   ],
   "source": [
    "df_vivienda_copy.RESUL_V= df_vivienda_copy.RESUL_V.astype('category')\n",
    "df_vivienda_copy.RESUL_V.value_counts()"
   ]
  },
  {
   "cell_type": "markdown",
   "metadata": {},
   "source": [
    "### Exploracion de la columna CD_ENDUTIH\n",
    "Ciudad de levantamiento\n",
    "    \n",
    "    [01-70] Catálogo tc_ciudad\n",
    "    b Blanco"
   ]
  },
  {
   "cell_type": "code",
   "execution_count": 21,
   "metadata": {},
   "outputs": [
    {
     "data": {
      "text/plain": [
       "99      43417\n",
       "1.0      4469\n",
       "3.0      2647\n",
       "2.0      2602\n",
       "14.0     1823\n",
       "20.0     1821\n",
       "38.0     1813\n",
       "5.0      1811\n",
       "27.0     1809\n",
       "28.0     1808\n",
       "25.0     1797\n",
       "31.0     1793\n",
       "59.0     1784\n",
       "24.0     1777\n",
       "6.0      1775\n",
       "32.0     1760\n",
       "62.0     1753\n",
       "16.0     1751\n",
       "65.0     1751\n",
       "39.0     1743\n",
       "37.0     1743\n",
       "17.0     1742\n",
       "36.0     1742\n",
       "33.0     1738\n",
       "67.0     1735\n",
       "49.0     1735\n",
       "52.0     1734\n",
       "26.0     1729\n",
       "40.0     1723\n",
       "23.0     1714\n",
       "4.0      1713\n",
       "44.0     1711\n",
       "15.0     1699\n",
       "19.0     1690\n",
       "8.0      1690\n",
       "9.0      1688\n",
       "10.0     1686\n",
       "21.0     1685\n",
       "18.0     1683\n",
       "7.0      1681\n",
       "70.0     1667\n",
       "29.0     1665\n",
       "22.0     1655\n",
       "30.0     1645\n",
       "13.0     1643\n",
       "43.0     1641\n",
       "55.0     1625\n",
       "46.0     1614\n",
       "41.0     1612\n",
       "12.0     1573\n",
       "Name: CD_ENDUTIH, dtype: int64"
      ]
     },
     "execution_count": 21,
     "metadata": {},
     "output_type": "execute_result"
    }
   ],
   "source": [
    "df_vivienda_copy.CD_ENDUTIH= df_vivienda_copy.CD_ENDUTIH.astype('category')\n",
    "df_vivienda_copy.CD_ENDUTIH.value_counts()"
   ]
  },
  {
   "cell_type": "code",
   "execution_count": 22,
   "metadata": {},
   "outputs": [
    {
     "data": {
      "text/plain": [
       "{1: '1',\n",
       " 2: '2',\n",
       " 3: '3',\n",
       " 4: '4',\n",
       " 5: '5',\n",
       " 6: '6',\n",
       " 7: '7',\n",
       " 8: '8',\n",
       " 9: '9',\n",
       " 10: '10',\n",
       " 11: '11',\n",
       " 12: '12',\n",
       " 13: '13',\n",
       " 14: '14',\n",
       " 15: '15',\n",
       " 16: '16',\n",
       " 17: '17',\n",
       " 18: '18',\n",
       " 19: '19',\n",
       " 20: '20',\n",
       " 21: '21',\n",
       " 22: '22',\n",
       " 23: '23',\n",
       " 24: '24',\n",
       " 25: '25',\n",
       " 26: '26',\n",
       " 27: '27',\n",
       " 28: '28',\n",
       " 29: '29',\n",
       " 30: '30',\n",
       " 31: '31',\n",
       " 32: '32',\n",
       " 33: '33',\n",
       " 34: '34',\n",
       " 35: '35',\n",
       " 36: '36',\n",
       " 37: '37',\n",
       " 38: '38',\n",
       " 39: '39',\n",
       " 40: '40',\n",
       " 41: '41',\n",
       " 42: '42',\n",
       " 43: '43',\n",
       " 44: '44',\n",
       " 45: '45',\n",
       " 46: '46',\n",
       " 47: '47',\n",
       " 48: '48',\n",
       " 49: '49',\n",
       " 50: '50',\n",
       " 51: '51',\n",
       " 52: '52',\n",
       " 53: '53',\n",
       " 54: '54',\n",
       " 55: '55',\n",
       " 56: '56',\n",
       " 57: '57',\n",
       " 58: '58',\n",
       " 59: '59',\n",
       " 60: '60',\n",
       " 61: '61',\n",
       " 62: '62',\n",
       " 63: '63',\n",
       " 64: '64',\n",
       " 65: '65',\n",
       " 66: '66',\n",
       " 67: '67',\n",
       " 68: '68',\n",
       " 69: '69',\n",
       " 70: '70'}"
      ]
     },
     "execution_count": 22,
     "metadata": {},
     "output_type": "execute_result"
    }
   ],
   "source": [
    "dicc_CD_ENDUTIH={1:'1',2:'2',3:'3',4:'4',5:'5',6:'6',7:'7',8:'8',9:'9',\n",
    "                 10:'10',11:'11',12:'12',13:'13',14:'14',15:'15',16:'16',17:'17',18:'18',19:'19',20:'20',21:'21',22:'22',\n",
    "                 23:'23',24:'24',25:'25',26:'26',27:'27',28:'28',29:'29',30:'30',31:'31',32:'32',33:'33',34:'34',35:'35',\n",
    "                 36:'36',37:'37',38:'38',39:'39',40:'40',41:'41',42:'42',43:'43',44:'44',45:'45',46:'46',47:'47',48:'48',\n",
    "                 49:'49',50:'50',51:'51',52:'52',53:'53',54:'54',55:'55',56:'56',57:'57',58:'58',59:'59',60:'60',61:'61',\n",
    "                 62:'62',63:'63',64:'64',65:'65',66:'66',67:'67',68:'68',69:'69',70:'70'\n",
    "                }\n",
    "dicc_CD_ENDUTIH"
   ]
  },
  {
   "cell_type": "code",
   "execution_count": 23,
   "metadata": {},
   "outputs": [
    {
     "data": {
      "text/plain": [
       "99    43417\n",
       "1      4469\n",
       "3      2647\n",
       "2      2602\n",
       "14     1823\n",
       "20     1821\n",
       "38     1813\n",
       "5      1811\n",
       "27     1809\n",
       "28     1808\n",
       "25     1797\n",
       "31     1793\n",
       "59     1784\n",
       "24     1777\n",
       "6      1775\n",
       "32     1760\n",
       "62     1753\n",
       "16     1751\n",
       "65     1751\n",
       "37     1743\n",
       "39     1743\n",
       "36     1742\n",
       "17     1742\n",
       "33     1738\n",
       "67     1735\n",
       "49     1735\n",
       "52     1734\n",
       "26     1729\n",
       "40     1723\n",
       "23     1714\n",
       "4      1713\n",
       "44     1711\n",
       "15     1699\n",
       "8      1690\n",
       "19     1690\n",
       "9      1688\n",
       "10     1686\n",
       "21     1685\n",
       "18     1683\n",
       "7      1681\n",
       "70     1667\n",
       "29     1665\n",
       "22     1655\n",
       "30     1645\n",
       "13     1643\n",
       "43     1641\n",
       "55     1625\n",
       "46     1614\n",
       "41     1612\n",
       "12     1573\n",
       "Name: CD_ENDUTIH, dtype: int64"
      ]
     },
     "execution_count": 23,
     "metadata": {},
     "output_type": "execute_result"
    }
   ],
   "source": [
    "df_vivienda_copy.CD_ENDUTIH.replace(dicc_CD_ENDUTIH, inplace=True)\n",
    "df_vivienda_copy.CD_ENDUTIH.value_counts()"
   ]
  },
  {
   "cell_type": "markdown",
   "metadata": {},
   "source": [
    "### Exploracion de la columna DOMINIO\n",
    "Población rural y urbana\n",
    "\n",
    "    [U,R] Población rural y urbana\n",
    "\n"
   ]
  },
  {
   "cell_type": "code",
   "execution_count": 24,
   "metadata": {},
   "outputs": [
    {
     "data": {
      "text/plain": [
       "U    104203\n",
       "R     28102\n",
       "Name: DOMINIO, dtype: int64"
      ]
     },
     "execution_count": 24,
     "metadata": {},
     "output_type": "execute_result"
    }
   ],
   "source": [
    "df_vivienda_copy.DOMINIO=df_vivienda_copy.DOMINIO.astype('category')\n",
    "df_vivienda_copy.DOMINIO.value_counts()"
   ]
  },
  {
   "cell_type": "code",
   "execution_count": 27,
   "metadata": {},
   "outputs": [
    {
     "data": {
      "text/plain": [
       "1    104203\n",
       "2     28102\n",
       "Name: DOMINIO, dtype: int64"
      ]
     },
     "execution_count": 27,
     "metadata": {},
     "output_type": "execute_result"
    }
   ],
   "source": [
    "dicc_Dom={'R':2, 'U':1}\n",
    "df_vivienda_copy.DOMINIO.replace(dicc_Dom, inplace=True)\n",
    "df_vivienda_copy.DOMINIO.value_counts()"
   ]
  },
  {
   "cell_type": "markdown",
   "metadata": {},
   "source": [
    "### Exploracion de la columna ENT\n",
    "Entidad\n",
    "    \n",
    "    [01-32] Entidad\n"
   ]
  },
  {
   "cell_type": "code",
   "execution_count": 28,
   "metadata": {},
   "outputs": [
    {
     "data": {
      "text/plain": [
       "28    7933\n",
       "11    6757\n",
       "2     6643\n",
       "30    6396\n",
       "26    4976\n",
       "16    4973\n",
       "21    4945\n",
       "25    4929\n",
       "15    4827\n",
       "7     4824\n",
       "8     4742\n",
       "12    4474\n",
       "5     4299\n",
       "19    4124\n",
       "14    4105\n",
       "10    3585\n",
       "3     3287\n",
       "6     3263\n",
       "31    3261\n",
       "29    3202\n",
       "4     3182\n",
       "1     3178\n",
       "18    3172\n",
       "20    3124\n",
       "32    3124\n",
       "17    3085\n",
       "27    3062\n",
       "22    3058\n",
       "23    3012\n",
       "13    2992\n",
       "24    2961\n",
       "9     2810\n",
       "Name: ENT, dtype: int64"
      ]
     },
     "execution_count": 28,
     "metadata": {},
     "output_type": "execute_result"
    }
   ],
   "source": [
    "df_vivienda_copy.ENT=df_vivienda_copy.ENT.astype('category')\n",
    "df_vivienda_copy.ENT.value_counts()"
   ]
  },
  {
   "cell_type": "markdown",
   "metadata": {},
   "source": [
    "### Impreción de la tabla\n",
    "Impreción de la tabla una vez limpiada\n"
   ]
  },
  {
   "cell_type": "code",
   "execution_count": 30,
   "metadata": {},
   "outputs": [],
   "source": [
    "path='C:/Users/alejandro/Desktop/ProyectoFinal Delfin/Limpiados/tr_vivienda.csv'\n",
    "\n",
    "df_vivienda_copy.to_csv(path_or_buf=path,index=True, encoding='utf-8')"
   ]
  },
  {
   "cell_type": "code",
   "execution_count": null,
   "metadata": {},
   "outputs": [],
   "source": []
  }
 ],
 "metadata": {
  "kernelspec": {
   "display_name": "Python 3",
   "language": "python",
   "name": "python3"
  },
  "language_info": {
   "codemirror_mode": {
    "name": "ipython",
    "version": 3
   },
   "file_extension": ".py",
   "mimetype": "text/x-python",
   "name": "python",
   "nbconvert_exporter": "python",
   "pygments_lexer": "ipython3",
   "version": "3.6.5"
  }
 },
 "nbformat": 4,
 "nbformat_minor": 2
}
